{
 "cells": [
  {
   "cell_type": "code",
   "execution_count": 10,
   "id": "fc64ac8f",
   "metadata": {},
   "outputs": [],
   "source": [
    "import qrcode as qr\n",
    "from PIL import Image"
   ]
  },
  {
   "cell_type": "code",
   "execution_count": 20,
   "id": "eea78dd4",
   "metadata": {},
   "outputs": [],
   "source": [
    "qr=qrcode.QRCode(version=1,error_correction=qrcode.constants.ERROR_CORRECT_H,box_size=10,border=4)\n",
    "qr.add_data(\"https://in.pinterest.com/\")\n",
    "qr.make(fit=True)\n",
    "img=qr.make_image(fill_color=\"lightblue\",back_color=\"darkblue\")\n",
    "img.save(\"MyPrintrest.png\")"
   ]
  },
  {
   "cell_type": "code",
   "execution_count": null,
   "id": "a83e0504",
   "metadata": {},
   "outputs": [],
   "source": []
  }
 ],
 "metadata": {
  "kernelspec": {
   "display_name": "Python 3 (ipykernel)",
   "language": "python",
   "name": "python3"
  },
  "language_info": {
   "codemirror_mode": {
    "name": "ipython",
    "version": 3
   },
   "file_extension": ".py",
   "mimetype": "text/x-python",
   "name": "python",
   "nbconvert_exporter": "python",
   "pygments_lexer": "ipython3",
   "version": "3.9.12"
  }
 },
 "nbformat": 4,
 "nbformat_minor": 5
}
